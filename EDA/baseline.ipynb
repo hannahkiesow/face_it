{
 "cells": [
  {
   "cell_type": "markdown",
   "id": "3edddcba",
   "metadata": {},
   "source": [
    "# Creating the baseline model"
   ]
  },
  {
   "cell_type": "markdown",
   "id": "3696b4df",
   "metadata": {},
   "source": [
    "Let's create a baseline model on the raw data, with no data manipulation \n",
    "\n",
    "All the images are pretty much uniform so let's just see what a baseline score could be\n",
    "From there, we can always improve"
   ]
  },
  {
   "cell_type": "code",
   "execution_count": 1,
   "id": "948eb03f",
   "metadata": {},
   "outputs": [],
   "source": [
    "import numpy as np\n",
    "import pandas as pd\n",
    "import matplotlib.pyplot as plt\n",
    "import seaborn as sns\n",
    "import tensorflow as tf"
   ]
  },
  {
   "cell_type": "code",
   "execution_count": null,
   "id": "10efd576",
   "metadata": {},
   "outputs": [],
   "source": []
  }
 ],
 "metadata": {
  "kernelspec": {
   "display_name": "face_it",
   "language": "python",
   "name": "python3"
  },
  "language_info": {
   "codemirror_mode": {
    "name": "ipython",
    "version": 3
   },
   "file_extension": ".py",
   "mimetype": "text/x-python",
   "name": "python",
   "nbconvert_exporter": "python",
   "pygments_lexer": "ipython3",
   "version": "3.10.6"
  }
 },
 "nbformat": 4,
 "nbformat_minor": 5
}
