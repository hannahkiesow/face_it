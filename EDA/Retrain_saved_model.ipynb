{
  "nbformat": 4,
  "nbformat_minor": 0,
  "metadata": {
    "colab": {
      "provenance": []
    },
    "kernelspec": {
      "name": "python3",
      "display_name": "Python 3"
    },
    "language_info": {
      "name": "python"
    }
  },
  "cells": [
    {
      "cell_type": "code",
      "execution_count": null,
      "metadata": {
        "colab": {
          "base_uri": "https://localhost:8080/"
        },
        "id": "ikOqhLzGwu8X",
        "outputId": "6bc0ae58-a22b-47ff-9c30-92194883baf8"
      },
      "outputs": [
        {
          "output_type": "stream",
          "name": "stdout",
          "text": [
            "Mounted at /content/drive\n"
          ]
        }
      ],
      "source": [
        "from google.colab import drive\n",
        "drive.mount('/content/drive')"
      ]
    },
    {
      "cell_type": "code",
      "source": [
        "import cv2\n",
        "import os\n",
        "import numpy as np\n",
        "import matplotlib.pyplot as plt"
      ],
      "metadata": {
        "id": "N5rFGf3Zw1a0"
      },
      "execution_count": null,
      "outputs": []
    },
    {
      "cell_type": "markdown",
      "source": [
        "### Load CSV and Prepare Data"
      ],
      "metadata": {
        "id": "eq9jxTMtzm43"
      }
    },
    {
      "cell_type": "code",
      "source": [
        "import pandas as pd\n",
        "import numpy as np\n",
        "from tensorflow.keras.utils import to_categorical\n",
        "\n",
        "# Load your CSV\n",
        "df = pd.read_csv(\"/content/drive/My Drive/Emotion_model/fer2013.csv\")\n",
        "\n",
        "# Convert 'pixels' column to numpy arrays\n",
        "pixels = df['pixels'].tolist()\n",
        "X = np.array([np.fromstring(p, sep=' ').reshape(48,48,1) for p in pixels], dtype='float32') / 255.0\n",
        "\n",
        "# One-hot encode labels\n",
        "Y = to_categorical(df['emotion'].values, num_classes=7)\n",
        "\n",
        "print(\"X shape:\", X.shape)\n",
        "print(\"Y shape:\", Y.shape)"
      ],
      "metadata": {
        "colab": {
          "base_uri": "https://localhost:8080/"
        },
        "id": "Of4xPf3ZxA7j",
        "outputId": "f3845e85-78fa-4f32-b50f-4cdffc0c8a78"
      },
      "execution_count": null,
      "outputs": [
        {
          "output_type": "stream",
          "name": "stdout",
          "text": [
            "X shape: (35887, 48, 48, 1)\n",
            "Y shape: (35887, 7)\n"
          ]
        }
      ]
    },
    {
      "cell_type": "markdown",
      "source": [
        "### Split Data into Train, Validation, Test"
      ],
      "metadata": {
        "id": "hZkosiqFziJc"
      }
    },
    {
      "cell_type": "code",
      "source": [
        "from sklearn.model_selection import train_test_split\n",
        "\n",
        "# 80% train, 10% val, 10% test\n",
        "train_X, temp_X, train_Y, temp_Y = train_test_split(X, Y, test_size=0.2, random_state=42, stratify=df['emotion'])\n",
        "val_X, test_X, val_Y, test_Y = train_test_split(temp_X, temp_Y, test_size=0.5, random_state=42, stratify=temp_Y.argmax(axis=1))\n",
        "\n",
        "print(\"Train:\", train_X.shape, train_Y.shape)\n",
        "print(\"Validation:\", val_X.shape, val_Y.shape)\n",
        "print(\"Test:\", test_X.shape, test_Y.shape)"
      ],
      "metadata": {
        "colab": {
          "base_uri": "https://localhost:8080/"
        },
        "id": "yzjP_UM_xA38",
        "outputId": "c6402c98-21d3-46ac-cf5e-a0d60ec41fe2"
      },
      "execution_count": null,
      "outputs": [
        {
          "output_type": "stream",
          "name": "stdout",
          "text": [
            "Train: (28709, 48, 48, 1) (28709, 7)\n",
            "Validation: (3589, 48, 48, 1) (3589, 7)\n",
            "Test: (3589, 48, 48, 1) (3589, 7)\n"
          ]
        }
      ]
    },
    {
      "cell_type": "markdown",
      "source": [],
      "metadata": {
        "id": "Wdj663ZNzX-2"
      }
    },
    {
      "cell_type": "markdown",
      "source": [
        "### Load Your Saved Model"
      ],
      "metadata": {
        "id": "fNR8VoQjzZ1A"
      }
    },
    {
      "cell_type": "code",
      "source": [
        "model = load_model(\"/content/drive/My Drive/Emotion_model/DeepS_emotion_model.keras\", compile=False)"
      ],
      "metadata": {
        "id": "yC4Br2wOxAxN"
      },
      "execution_count": null,
      "outputs": []
    },
    {
      "cell_type": "markdown",
      "source": [
        "### Data Augmentation"
      ],
      "metadata": {
        "id": "uQMhen95zTns"
      }
    },
    {
      "cell_type": "code",
      "source": [
        "from tensorflow.keras.preprocessing.image import ImageDataGenerator\n",
        "\n",
        "datagen = ImageDataGenerator(\n",
        "    rotation_range=15,\n",
        "    width_shift_range=0.1,\n",
        "    height_shift_range=0.1,\n",
        "    zoom_range=0.1,\n",
        "    horizontal_flip=True\n",
        ")\n",
        "\n",
        "# Example: augment entire train set (or just fear/sad)\n",
        "train_datagen = datagen.flow(train_X, train_Y, batch_size=64)"
      ],
      "metadata": {
        "id": "4mDsJRY0xAt3"
      },
      "execution_count": null,
      "outputs": []
    },
    {
      "cell_type": "markdown",
      "source": [
        "### Use Class Weights for Fear & Sad"
      ],
      "metadata": {
        "id": "9ECEMfibzNxR"
      }
    },
    {
      "cell_type": "code",
      "source": [
        "from sklearn.utils.class_weight import compute_class_weight\n",
        "\n",
        "# Convert one-hot Y to single label for class_weight\n",
        "y_integers = np.argmax(train_Y, axis=1)\n",
        "class_weights = compute_class_weight('balanced', classes=np.unique(y_integers), y=y_integers)\n",
        "class_weights_dict = dict(enumerate(class_weights))\n",
        "print(\"Class weights:\", class_weights_dict)"
      ],
      "metadata": {
        "colab": {
          "base_uri": "https://localhost:8080/"
        },
        "id": "UI9HX-3JxAqr",
        "outputId": "806cf9c9-f213-4249-fd68-30b64f314652"
      },
      "execution_count": null,
      "outputs": [
        {
          "output_type": "stream",
          "name": "stdout",
          "text": [
            "Class weights: {0: np.float64(1.035155404918151), 1: np.float64(9.363666014350946), 2: np.float64(1.0010460615781582), 3: np.float64(0.5703359357927568), 4: np.float64(0.8437123460781144), 5: np.float64(1.2808512536807353), 6: np.float64(0.8272056704892525)}\n"
          ]
        }
      ]
    },
    {
      "cell_type": "markdown",
      "source": [
        "### Fine-Tune the Model"
      ],
      "metadata": {
        "id": "ddhM9rywzKI2"
      }
    },
    {
      "cell_type": "code",
      "source": [
        "# Freeze early layers if you want\n",
        "for layer in model.layers[:-3]:\n",
        "    layer.trainable = False\n",
        "\n",
        "# Compile model\n",
        "model.compile(optimizer='adam', loss='categorical_crossentropy', metrics=['accuracy'])\n",
        "\n",
        "# Train model\n",
        "history = model.fit(\n",
        "    train_X, train_Y,\n",
        "    validation_data=(val_X, val_Y),\n",
        "    epochs=10,\n",
        "    batch_size=64,\n",
        "    class_weight=class_weights_dict\n",
        ")"
      ],
      "metadata": {
        "colab": {
          "base_uri": "https://localhost:8080/"
        },
        "id": "O1k5-Sg1xAnp",
        "outputId": "c44be2cc-2ff1-4aab-9f4c-2bc4e21f05a9"
      },
      "execution_count": null,
      "outputs": [
        {
          "output_type": "stream",
          "name": "stdout",
          "text": [
            "Epoch 1/10\n",
            "\u001b[1m449/449\u001b[0m \u001b[32m━━━━━━━━━━━━━━━━━━━━\u001b[0m\u001b[37m\u001b[0m \u001b[1m588s\u001b[0m 1s/step - accuracy: 0.6238 - loss: 0.9448 - val_accuracy: 0.6620 - val_loss: 0.8956\n",
            "Epoch 2/10\n",
            "\u001b[1m449/449\u001b[0m \u001b[32m━━━━━━━━━━━━━━━━━━━━\u001b[0m\u001b[37m\u001b[0m \u001b[1m575s\u001b[0m 1s/step - accuracy: 0.6245 - loss: 0.9428 - val_accuracy: 0.6461 - val_loss: 0.9465\n",
            "Epoch 3/10\n",
            "\u001b[1m449/449\u001b[0m \u001b[32m━━━━━━━━━━━━━━━━━━━━\u001b[0m\u001b[37m\u001b[0m \u001b[1m538s\u001b[0m 1s/step - accuracy: 0.6200 - loss: 0.9548 - val_accuracy: 0.6606 - val_loss: 0.8856\n",
            "Epoch 4/10\n",
            "\u001b[1m449/449\u001b[0m \u001b[32m━━━━━━━━━━━━━━━━━━━━\u001b[0m\u001b[37m\u001b[0m \u001b[1m584s\u001b[0m 1s/step - accuracy: 0.6267 - loss: 0.9458 - val_accuracy: 0.6570 - val_loss: 0.9021\n",
            "Epoch 5/10\n",
            "\u001b[1m449/449\u001b[0m \u001b[32m━━━━━━━━━━━━━━━━━━━━\u001b[0m\u001b[37m\u001b[0m \u001b[1m561s\u001b[0m 1s/step - accuracy: 0.6192 - loss: 0.9425 - val_accuracy: 0.6631 - val_loss: 0.8953\n",
            "Epoch 6/10\n",
            "\u001b[1m449/449\u001b[0m \u001b[32m━━━━━━━━━━━━━━━━━━━━\u001b[0m\u001b[37m\u001b[0m \u001b[1m563s\u001b[0m 1s/step - accuracy: 0.6247 - loss: 0.9309 - val_accuracy: 0.6645 - val_loss: 0.8884\n",
            "Epoch 7/10\n",
            "\u001b[1m449/449\u001b[0m \u001b[32m━━━━━━━━━━━━━━━━━━━━\u001b[0m\u001b[37m\u001b[0m \u001b[1m562s\u001b[0m 1s/step - accuracy: 0.6231 - loss: 0.9259 - val_accuracy: 0.6620 - val_loss: 0.9074\n",
            "Epoch 8/10\n",
            "\u001b[1m449/449\u001b[0m \u001b[32m━━━━━━━━━━━━━━━━━━━━\u001b[0m\u001b[37m\u001b[0m \u001b[1m562s\u001b[0m 1s/step - accuracy: 0.6277 - loss: 0.9395 - val_accuracy: 0.6548 - val_loss: 0.9047\n",
            "Epoch 9/10\n",
            "\u001b[1m449/449\u001b[0m \u001b[32m━━━━━━━━━━━━━━━━━━━━\u001b[0m\u001b[37m\u001b[0m \u001b[1m536s\u001b[0m 1s/step - accuracy: 0.6215 - loss: 0.9457 - val_accuracy: 0.6537 - val_loss: 0.9152\n",
            "Epoch 10/10\n",
            "\u001b[1m449/449\u001b[0m \u001b[32m━━━━━━━━━━━━━━━━━━━━\u001b[0m\u001b[37m\u001b[0m \u001b[1m560s\u001b[0m 1s/step - accuracy: 0.6204 - loss: 0.9566 - val_accuracy: 0.6595 - val_loss: 0.9107\n"
          ]
        }
      ]
    },
    {
      "cell_type": "markdown",
      "source": [
        "### Evaluate on Test Set"
      ],
      "metadata": {
        "id": "coylfOvSBA9w"
      }
    },
    {
      "cell_type": "code",
      "source": [
        "from sklearn.metrics import classification_report\n",
        "\n",
        "predictions = model.predict(test_X)\n",
        "pred_labels = np.argmax(predictions, axis=1)\n",
        "true_labels = np.argmax(test_Y, axis=1)\n",
        "\n",
        "print(classification_report(true_labels, pred_labels, target_names=[\"Angry\",\"Disgust\",\"Fear\",\"Happy\",\"Sad\",\"Surprise\",\"Neutral\"]))"
      ],
      "metadata": {
        "colab": {
          "base_uri": "https://localhost:8080/"
        },
        "id": "F45O96Fa-2GC",
        "outputId": "7a5ac7ab-2ed3-4aa3-8118-c69ef09fa721"
      },
      "execution_count": null,
      "outputs": [
        {
          "output_type": "stream",
          "name": "stdout",
          "text": [
            "\u001b[1m113/113\u001b[0m \u001b[32m━━━━━━━━━━━━━━━━━━━━\u001b[0m\u001b[37m\u001b[0m \u001b[1m58s\u001b[0m 509ms/step\n",
            "              precision    recall  f1-score   support\n",
            "\n",
            "       happy       0.63      0.52      0.57       496\n",
            "         sad       0.42      0.93      0.57        54\n",
            "        fear       0.57      0.39      0.47       512\n",
            "       anger       0.90      0.84      0.87       899\n",
            "     disgust       0.54      0.61      0.57       608\n",
            "    surprise       0.70      0.87      0.77       400\n",
            "     neutral       0.63      0.70      0.66       620\n",
            "\n",
            "    accuracy                           0.67      3589\n",
            "   macro avg       0.63      0.69      0.64      3589\n",
            "weighted avg       0.68      0.67      0.67      3589\n",
            "\n"
          ]
        }
      ]
    },
    {
      "cell_type": "markdown",
      "source": [
        "### Plot Confusion Matrix"
      ],
      "metadata": {
        "id": "nYOjB104AyM6"
      }
    },
    {
      "cell_type": "code",
      "source": [
        "from sklearn.metrics import confusion_matrix\n",
        "import seaborn as sns\n",
        "cm = confusion_matrix(true_labels, pred_labels)\n",
        "CLASS_NAMES = [\"Angry\",\"Disgust\",\"Fear\",\"Happy\",\"Sad\",\"Surprise\",\"Neutral\"]\n",
        "\n",
        "# Plot\n",
        "plt.figure(figsize=(8,6))\n",
        "sns.heatmap(cm, annot=True, fmt='d', xticklabels=CLASS_NAMES, yticklabels=CLASS_NAMES)\n",
        "plt.xlabel('Predicted')\n",
        "plt.ylabel('True')\n",
        "plt.title('Confusion Matrix')\n",
        "plt.show()"
      ],
      "metadata": {
        "colab": {
          "base_uri": "https://localhost:8080/",
          "height": 564
        },
        "id": "740ZoRw4xAhf",
        "outputId": "e9a7f7b6-3899-4428-9a0e-14106186c4c5"
      },
      "execution_count": null,
      "outputs": [
        {
          "output_type": "display_data",
          "data": {
            "text/plain": [
              "<Figure size 800x600 with 2 Axes>"
            ],
            "image/png": "[encoded data removed]"
          },
          "metadata": {}
        }
      ]
    },
    {
      "cell_type": "markdown",
      "source": [
        "### More Data Augmentation for Fear and Sad"
      ],
      "metadata": {
        "id": "oCQnEftHRw3I"
      }
    },
    {
      "cell_type": "code",
      "source": [
        "from tensorflow.keras.preprocessing.image import ImageDataGenerator\n",
        "\n",
        "# Targeted augmentation only for fear and sad\n",
        "fear_sad_indices = np.where(np.argmax(train_Y, axis=1) == 4)[0]  # sad = 4\n",
        "fear_sad_indices = np.concatenate((fear_sad_indices, np.where(np.argmax(train_Y, axis=1) == 2)[0]))  # fear = 2\n",
        "\n",
        "fear_sad_X = train_X[fear_sad_indices]\n",
        "fear_sad_Y = train_Y[fear_sad_indices]\n",
        "\n",
        "datagen = ImageDataGenerator(\n",
        "    rotation_range=15,\n",
        "    width_shift_range=0.1,\n",
        "    height_shift_range=0.1,\n",
        "    zoom_range=0.1,\n",
        "    horizontal_flip=True\n",
        ")\n",
        "\n",
        "augmented_data = datagen.flow(fear_sad_X, fear_sad_Y, batch_size=32)"
      ],
      "metadata": {
        "id": "JTLsjoXoxAeO"
      },
      "execution_count": null,
      "outputs": []
    },
    {
      "cell_type": "markdown",
      "source": [
        "### Learning Rate Reduction and Early Stopping"
      ],
      "metadata": {
        "id": "s_e_iD-vRrI8"
      }
    },
    {
      "cell_type": "code",
      "source": [
        "from tensorflow.keras.callbacks import ReduceLROnPlateau, EarlyStopping\n",
        "\n",
        "# Reduce LR when val_loss stops improving\n",
        "reduce_lr = ReduceLROnPlateau(monitor='val_loss', factor=0.5, patience=3, min_lr=1e-6, verbose=1)\n",
        "\n",
        "# Stop training early if val_loss doesn't improve\n",
        "early_stop = EarlyStopping(monitor='val_loss', patience=7, restore_best_weights=True, verbose=1)\n"
      ],
      "metadata": {
        "id": "S7KMU7j3xAat"
      },
      "execution_count": null,
      "outputs": []
    },
    {
      "cell_type": "markdown",
      "source": [
        "### Fine-Tune Model with Improvements"
      ],
      "metadata": {
        "id": "OAMVojhaRlIf"
      }
    },
    {
      "cell_type": "code",
      "source": [
        "# Optionally freeze base layers\n",
        "for layer in model.layers[:-3]:\n",
        "    layer.trainable = False\n",
        "\n",
        "# Compile model\n",
        "model.compile(optimizer='adam', loss='categorical_crossentropy', metrics=['accuracy'])\n",
        "\n",
        "# Train with augmented data, class weights, LR reduction, and early stopping\n",
        "history = model.fit(\n",
        "    train_X, train_Y,\n",
        "    validation_data=(val_X, val_Y),\n",
        "    epochs=50,\n",
        "    batch_size=64,\n",
        "    class_weight=class_weights_dict,\n",
        "    callbacks=[reduce_lr, early_stop]\n",
        ")\n"
      ],
      "metadata": {
        "colab": {
          "base_uri": "https://localhost:8080/"
        },
        "id": "b4CajKkwxAW8",
        "outputId": "bc1c439f-a07d-4504-8a7c-e16b33c233e0"
      },
      "execution_count": null,
      "outputs": [
        {
          "output_type": "stream",
          "name": "stdout",
          "text": [
            "Epoch 1/50\n",
            "\u001b[1m449/449\u001b[0m \u001b[32m━━━━━━━━━━━━━━━━━━━━\u001b[0m\u001b[37m\u001b[0m \u001b[1m560s\u001b[0m 1s/step - accuracy: 0.6244 - loss: 0.9360 - val_accuracy: 0.6481 - val_loss: 0.9321 - learning_rate: 0.0010\n",
            "Epoch 2/50\n",
            "\u001b[1m449/449\u001b[0m \u001b[32m━━━━━━━━━━━━━━━━━━━━\u001b[0m\u001b[37m\u001b[0m \u001b[1m563s\u001b[0m 1s/step - accuracy: 0.6196 - loss: 0.9494 - val_accuracy: 0.6634 - val_loss: 0.8999 - learning_rate: 0.0010\n",
            "Epoch 3/50\n",
            "\u001b[1m449/449\u001b[0m \u001b[32m━━━━━━━━━━━━━━━━━━━━\u001b[0m\u001b[37m\u001b[0m \u001b[1m561s\u001b[0m 1s/step - accuracy: 0.6254 - loss: 0.9515 - val_accuracy: 0.6612 - val_loss: 0.8935 - learning_rate: 0.0010\n",
            "Epoch 4/50\n",
            "\u001b[1m449/449\u001b[0m \u001b[32m━━━━━━━━━━━━━━━━━━━━\u001b[0m\u001b[37m\u001b[0m \u001b[1m562s\u001b[0m 1s/step - accuracy: 0.6229 - loss: 0.9513 - val_accuracy: 0.6537 - val_loss: 0.9035 - learning_rate: 0.0010\n",
            "Epoch 5/50\n",
            "\u001b[1m449/449\u001b[0m \u001b[32m━━━━━━━━━━━━━━━━━━━━\u001b[0m\u001b[37m\u001b[0m \u001b[1m539s\u001b[0m 1s/step - accuracy: 0.6288 - loss: 0.9306 - val_accuracy: 0.6612 - val_loss: 0.8978 - learning_rate: 0.0010\n",
            "Epoch 6/50\n",
            "\u001b[1m449/449\u001b[0m \u001b[32m━━━━━━━━━━━━━━━━━━━━\u001b[0m\u001b[37m\u001b[0m \u001b[1m0s\u001b[0m 1s/step - accuracy: 0.6260 - loss: 0.9359\n",
            "Epoch 6: ReduceLROnPlateau reducing learning rate to 0.0005000000237487257.\n",
            "\u001b[1m449/449\u001b[0m \u001b[32m━━━━━━━━━━━━━━━━━━━━\u001b[0m\u001b[37m\u001b[0m \u001b[1m533s\u001b[0m 1s/step - accuracy: 0.6260 - loss: 0.9359 - val_accuracy: 0.6620 - val_loss: 0.8963 - learning_rate: 0.0010\n",
            "Epoch 7/50\n",
            "\u001b[1m449/449\u001b[0m \u001b[32m━━━━━━━━━━━━━━━━━━━━\u001b[0m\u001b[37m\u001b[0m \u001b[1m587s\u001b[0m 1s/step - accuracy: 0.6260 - loss: 0.9266 - val_accuracy: 0.6668 - val_loss: 0.8811 - learning_rate: 5.0000e-04\n",
            "Epoch 8/50\n",
            "\u001b[1m449/449\u001b[0m \u001b[32m━━━━━━━━━━━━━━━━━━━━\u001b[0m\u001b[37m\u001b[0m \u001b[1m561s\u001b[0m 1s/step - accuracy: 0.6303 - loss: 0.9036 - val_accuracy: 0.6676 - val_loss: 0.8922 - learning_rate: 5.0000e-04\n",
            "Epoch 9/50\n",
            "\u001b[1m449/449\u001b[0m \u001b[32m━━━━━━━━━━━━━━━━━━━━\u001b[0m\u001b[37m\u001b[0m \u001b[1m558s\u001b[0m 1s/step - accuracy: 0.6361 - loss: 0.9091 - val_accuracy: 0.6665 - val_loss: 0.8826 - learning_rate: 5.0000e-04\n",
            "Epoch 10/50\n",
            "\u001b[1m449/449\u001b[0m \u001b[32m━━━━━━━━━━━━━━━━━━━━\u001b[0m\u001b[37m\u001b[0m \u001b[1m0s\u001b[0m 1s/step - accuracy: 0.6277 - loss: 0.9260\n",
            "Epoch 10: ReduceLROnPlateau reducing learning rate to 0.0002500000118743628.\n",
            "\u001b[1m449/449\u001b[0m \u001b[32m━━━━━━━━━━━━━━━━━━━━\u001b[0m\u001b[37m\u001b[0m \u001b[1m534s\u001b[0m 1s/step - accuracy: 0.6277 - loss: 0.9260 - val_accuracy: 0.6645 - val_loss: 0.8915 - learning_rate: 5.0000e-04\n",
            "Epoch 11/50\n",
            "\u001b[1m449/449\u001b[0m \u001b[32m━━━━━━━━━━━━━━━━━━━━\u001b[0m\u001b[37m\u001b[0m \u001b[1m588s\u001b[0m 1s/step - accuracy: 0.6346 - loss: 0.9008 - val_accuracy: 0.6659 - val_loss: 0.8825 - learning_rate: 2.5000e-04\n",
            "Epoch 12/50\n",
            "\u001b[1m449/449\u001b[0m \u001b[32m━━━━━━━━━━━━━━━━━━━━\u001b[0m\u001b[37m\u001b[0m \u001b[1m562s\u001b[0m 1s/step - accuracy: 0.6343 - loss: 0.9140 - val_accuracy: 0.6651 - val_loss: 0.8855 - learning_rate: 2.5000e-04\n",
            "Epoch 13/50\n",
            "\u001b[1m449/449\u001b[0m \u001b[32m━━━━━━━━━━━━━━━━━━━━\u001b[0m\u001b[37m\u001b[0m \u001b[1m0s\u001b[0m 1s/step - accuracy: 0.6303 - loss: 0.9123\n",
            "Epoch 13: ReduceLROnPlateau reducing learning rate to 0.0001250000059371814.\n",
            "\u001b[1m449/449\u001b[0m \u001b[32m━━━━━━━━━━━━━━━━━━━━\u001b[0m\u001b[37m\u001b[0m \u001b[1m559s\u001b[0m 1s/step - accuracy: 0.6303 - loss: 0.9123 - val_accuracy: 0.6684 - val_loss: 0.8845 - learning_rate: 2.5000e-04\n",
            "Epoch 14/50\n",
            "\u001b[1m449/449\u001b[0m \u001b[32m━━━━━━━━━━━━━━━━━━━━\u001b[0m\u001b[37m\u001b[0m \u001b[1m558s\u001b[0m 1s/step - accuracy: 0.6316 - loss: 0.9221 - val_accuracy: 0.6643 - val_loss: 0.8803 - learning_rate: 1.2500e-04\n",
            "Epoch 15/50\n",
            "\u001b[1m 17/449\u001b[0m \u001b[37m━━━━━━━━━━━━━━━━━━━━\u001b[0m \u001b[1m8:12\u001b[0m 1s/step - accuracy: 0.6438 - loss: 0.8989"
          ]
        }
      ]
    },
    {
      "cell_type": "markdown",
      "source": [
        "### Re-Evaluate"
      ],
      "metadata": {
        "id": "R7WS0gJbRd05"
      }
    },
    {
      "cell_type": "code",
      "source": [
        "predictions = model.predict(test_X)\n",
        "pred_labels = np.argmax(predictions, axis=1)\n",
        "true_labels = np.argmax(test_Y, axis=1)\n",
        "\n",
        "# Classification report\n",
        "from sklearn.metrics import classification_report\n",
        "print(classification_report(true_labels, pred_labels, target_names=[\"Angry\",\"Disgust\",\"Fear\",\"Happy\",\"Sad\",\"Surprise\",\"Neutral\"]))\n",
        "\n",
        "# Confusion matrix (plot again)\n",
        "cm = confusion_matrix(true_labels, pred_labels)\n",
        "plt.figure(figsize=(8,6))\n",
        "sns.heatmap(cm, annot=True, fmt='d', cmap='Blues', xticklabels=[\"Angry\",\"Disgust\",\"Fear\",\"Happy\",\"Sad\",\"Surprise\",\"Neutral\"], yticklabels=[\"Angry\",\"Disgust\",\"Fear\",\"Happy\",\"Sad\",\"Surprise\",\"Neutral\"])\n",
        "plt.xlabel('Predicted')\n",
        "plt.ylabel('True')\n",
        "plt.title('Confusion Matrix After Fine-Tuning')\n",
        "plt.show()"
      ],
      "metadata": {
        "id": "CIBMkP1UxAPV"
      },
      "execution_count": null,
      "outputs": []
    },
    {
      "cell_type": "code",
      "source": [],
      "metadata": {
        "id": "arRnD8kXxADm"
      },
      "execution_count": null,
      "outputs": []
    }
  ]
}