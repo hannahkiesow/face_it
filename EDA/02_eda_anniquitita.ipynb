{
 "cells": [
  {
   "cell_type": "code",
   "execution_count": 1,
   "id": "e6abb028-8651-461c-ac83-9a87bc8804fa",
   "metadata": {
    "execution": {
     "iopub.execute_input": "2025-09-01T21:26:04.340803Z",
     "iopub.status.busy": "2025-09-01T21:26:04.340183Z",
     "iopub.status.idle": "2025-09-01T21:26:20.657168Z",
     "shell.execute_reply": "2025-09-01T21:26:20.656759Z",
     "shell.execute_reply.started": "2025-09-01T21:26:04.340748Z"
    }
   },
   "outputs": [],
   "source": [
    "import os\n",
    "import random\n",
    "import numpy as np\n",
    "import pandas as pd\n",
    "import matplotlib.pyplot as plt\n",
    "import matplotlib.image as mpimg\n",
    "import seaborn as sns\n",
    "from PIL import Image"
   ]
  },
  {
   "cell_type": "code",
   "execution_count": null,
   "id": "b0092f21-0ffe-4ab1-849d-28026acaa45a",
   "metadata": {},
   "outputs": [],
   "source": []
  }
 ],
 "metadata": {
  "kernelspec": {
   "display_name": "Python 3 (ipykernel)",
   "language": "python",
   "name": "python3"
  },
  "language_info": {
   "codemirror_mode": {
    "name": "ipython",
    "version": 3
   },
   "file_extension": ".py",
   "mimetype": "text/x-python",
   "name": "python",
   "nbconvert_exporter": "python",
   "pygments_lexer": "ipython3",
   "version": "3.10.6"
  }
 },
 "nbformat": 4,
 "nbformat_minor": 5
}
