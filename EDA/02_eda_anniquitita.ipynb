{
 "cells": [
  {
   "cell_type": "code",
   "execution_count": 1,
   "id": "e6abb028-8651-461c-ac83-9a87bc8804fa",
   "metadata": {
    "execution": {
     "iopub.execute_input": "2025-09-01T21:26:04.340803Z",
     "iopub.status.busy": "2025-09-01T21:26:04.340183Z",
     "iopub.status.idle": "2025-09-01T21:26:20.657168Z",
     "shell.execute_reply": "2025-09-01T21:26:20.656759Z",
     "shell.execute_reply.started": "2025-09-01T21:26:04.340748Z"
    }
   },
   "outputs": [],
   "source": [
    "import os\n",
    "import random\n",
    "import numpy as np\n",
    "import pandas as pd\n",
    "import matplotlib.pyplot as plt\n",
    "import matplotlib.image as mpimg\n",
    "import seaborn as sns\n",
    "from PIL import Image"
   ]
  },
  {
   "cell_type": "code",
   "execution_count": 2,
   "id": "b0092f21-0ffe-4ab1-849d-28026acaa45a",
   "metadata": {
    "execution": {
     "iopub.execute_input": "2025-09-01T21:43:00.008568Z",
     "iopub.status.busy": "2025-09-01T21:43:00.007691Z",
     "iopub.status.idle": "2025-09-01T21:43:00.025400Z",
     "shell.execute_reply": "2025-09-01T21:43:00.024744Z",
     "shell.execute_reply.started": "2025-09-01T21:43:00.008517Z"
    }
   },
   "outputs": [
    {
     "name": "stdout",
     "output_type": "stream",
     "text": [
      "../raw_data : 0\n",
      "../raw_data/archive (1) : 0\n",
      "../raw_data/archive (1)/contempt : 208\n",
      "../raw_data/archive (1)/fear : 570\n",
      "../raw_data/archive (1)/surprise : 775\n",
      "../raw_data/archive (1)/sadness : 746\n",
      "../raw_data/archive (1)/neutrality : 524\n",
      "../raw_data/archive (1)/happiness : 1406\n",
      "../raw_data/archive (1)/anger : 890\n",
      "../raw_data/archive (1)/disgust : 439\n"
     ]
    }
   ],
   "source": [
    "import os\n",
    "\n",
    "base_dir = \"../raw_data\"\n",
    "\n",
    "for root, dirs, files in os.walk(base_dir):\n",
    "    print(root, \":\", len(files))"
   ]
  },
  {
   "cell_type": "code",
   "execution_count": 9,
   "id": "6f7b2941-7e03-462a-b364-64d3d43706ec",
   "metadata": {
    "execution": {
     "iopub.execute_input": "2025-09-01T22:01:25.111997Z",
     "iopub.status.busy": "2025-09-01T22:01:25.111386Z",
     "iopub.status.idle": "2025-09-01T22:01:25.171506Z",
     "shell.execute_reply": "2025-09-01T22:01:25.171130Z",
     "shell.execute_reply.started": "2025-09-01T22:01:25.111951Z"
    }
   },
   "outputs": [],
   "source": [
    "import os\n",
    "import pandas as pd\n",
    "\n",
    "base_dir = \"../raw_data/archive (1)\"  # directly inside archive (1)\n",
    "\n",
    "data = []\n",
    "for label in os.listdir(base_dir):\n",
    "    label_dir = os.path.join(base_dir, label)\n",
    "    if os.path.isdir(label_dir):\n",
    "        for file in os.listdir(label_dir):\n",
    "            if os.path.isfile(os.path.join(label_dir, file)):\n",
    "                data.append({\n",
    "                    \"filepath\": os.path.join(label_dir, file),\n",
    "                    \"label\": label\n",
    "                })\n",
    "\n",
    "df = pd.DataFrame(data)"
   ]
  },
  {
   "cell_type": "code",
   "execution_count": 10,
   "id": "010c2cb5-ebef-43e8-ba2d-6a4e5907f1c8",
   "metadata": {
    "execution": {
     "iopub.execute_input": "2025-09-01T22:01:56.337008Z",
     "iopub.status.busy": "2025-09-01T22:01:56.336391Z",
     "iopub.status.idle": "2025-09-01T22:01:56.420211Z",
     "shell.execute_reply": "2025-09-01T22:01:56.419909Z",
     "shell.execute_reply.started": "2025-09-01T22:01:56.336961Z"
    }
   },
   "outputs": [
    {
     "data": {
      "image/png": "[encoded data removed]",
      "text/plain": [
       "<Figure size 800x500 with 1 Axes>"
      ]
     },
     "metadata": {},
     "output_type": "display_data"
    }
   ],
   "source": [
    "import matplotlib.pyplot as plt\n",
    "\n",
    "df[\"label\"].value_counts().plot(kind=\"bar\", color=\"skyblue\", figsize=(8,5))\n",
    "plt.title(\"Number of Images per Emotion\")\n",
    "plt.ylabel(\"Count\")\n",
    "plt.xlabel(\"Emotion\")\n",
    "plt.xticks(rotation=45)\n",
    "plt.show()"
   ]
  },
  {
   "cell_type": "code",
   "execution_count": 11,
   "id": "c63cfbda-21ae-4d0e-a9ea-02744ecacc77",
   "metadata": {
    "execution": {
     "iopub.execute_input": "2025-09-01T22:02:20.115979Z",
     "iopub.status.busy": "2025-09-01T22:02:20.115295Z",
     "iopub.status.idle": "2025-09-01T22:02:20.126638Z",
     "shell.execute_reply": "2025-09-01T22:02:20.125888Z",
     "shell.execute_reply.started": "2025-09-01T22:02:20.115930Z"
    }
   },
   "outputs": [
    {
     "name": "stdout",
     "output_type": "stream",
     "text": [
      "label\n",
      "happiness     1406\n",
      "anger          890\n",
      "surprise       775\n",
      "sadness        746\n",
      "fear           570\n",
      "neutrality     524\n",
      "disgust        439\n",
      "contempt       208\n",
      "Name: count, dtype: int64\n",
      "\n",
      "Percentages:\n",
      "label\n",
      "happiness     25.296869\n",
      "anger         16.012954\n",
      "surprise      13.943865\n",
      "sadness       13.422094\n",
      "fear          10.255488\n",
      "neutrality     9.427852\n",
      "disgust        7.898525\n",
      "contempt       3.742353\n",
      "Name: proportion, dtype: float64\n"
     ]
    }
   ],
   "source": [
    "print(df[\"label\"].value_counts())\n",
    "print(\"\\nPercentages:\")\n",
    "print(df[\"label\"].value_counts(normalize=True) * 100)"
   ]
  },
  {
   "cell_type": "code",
   "execution_count": 12,
   "id": "ecfad27a-696c-4b1c-b316-b32d7cf26c67",
   "metadata": {
    "execution": {
     "iopub.execute_input": "2025-09-01T22:03:23.599412Z",
     "iopub.status.busy": "2025-09-01T22:03:23.598787Z",
     "iopub.status.idle": "2025-09-01T22:03:23.712510Z",
     "shell.execute_reply": "2025-09-01T22:03:23.712258Z",
     "shell.execute_reply.started": "2025-09-01T22:03:23.599364Z"
    }
   },
   "outputs": [
    {
     "name": "stdout",
     "output_type": "stream",
     "text": [
      "       width  height\n",
      "count  500.0   500.0\n",
      "mean   224.0   224.0\n",
      "std      0.0     0.0\n",
      "min    224.0   224.0\n",
      "25%    224.0   224.0\n",
      "50%    224.0   224.0\n",
      "75%    224.0   224.0\n",
      "max    224.0   224.0\n"
     ]
    }
   ],
   "source": [
    "from PIL import Image\n",
    "\n",
    "sizes = []\n",
    "for fp in df[\"filepath\"].sample(500):  # sample 500 for speed\n",
    "    with Image.open(fp) as img:\n",
    "        sizes.append(img.size)\n",
    "\n",
    "size_df = pd.DataFrame(sizes, columns=[\"width\", \"height\"])\n",
    "print(size_df.describe())"
   ]
  },
  {
   "cell_type": "code",
   "execution_count": null,
   "id": "07f67cc6-c297-49d8-93e6-6b678e323548",
   "metadata": {},
   "outputs": [],
   "source": []
  }
 ],
 "metadata": {
  "kernelspec": {
   "display_name": "Python 3 (ipykernel)",
   "language": "python",
   "name": "python3"
  },
  "language_info": {
   "codemirror_mode": {
    "name": "ipython",
    "version": 3
   },
   "file_extension": ".py",
   "mimetype": "text/x-python",
   "name": "python",
   "nbconvert_exporter": "python",
   "pygments_lexer": "ipython3",
   "version": "3.10.6"
  }
 },
 "nbformat": 4,
 "nbformat_minor": 5
}
