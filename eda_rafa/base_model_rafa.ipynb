{
 "cells": [
  {
   "cell_type": "markdown",
   "id": "28d849c6",
   "metadata": {},
   "source": [
    "## Baseline Model - Testing Accurracy"
   ]
  },
  {
   "cell_type": "code",
   "execution_count": 5,
   "id": "99460422",
   "metadata": {},
   "outputs": [],
   "source": [
    "import numpy as np\n",
    "import pandas as pd\n",
    "import os\n",
    "import matplotlib.pyplot as plt\n",
    "import matplotlib.image as mpimg\n",
    "import seaborn as sns\n",
    "from PIL import Image\n",
    "\n",
    "from sklearn.model_selection import train_test_split"
   ]
  },
  {
   "cell_type": "markdown",
   "id": "ff7eff38",
   "metadata": {},
   "source": [
    "### Loading the Dataset"
   ]
  },
  {
   "cell_type": "code",
   "execution_count": 8,
   "id": "8fe111d2",
   "metadata": {},
   "outputs": [
    {
     "name": "stdout",
     "output_type": "stream",
     "text": [
      "Classes: ['anger', 'contempt', 'disgust', 'fear', 'happiness', 'neutrality', 'sadness', 'surprise']\n"
     ]
    }
   ],
   "source": [
    "# Base directory where emotion folders live\n",
    "data_dir = \"../raw_data\"\n",
    "\n",
    "# Classes = subfolders (emotions)\n",
    "class_names = sorted(os.listdir(data_dir))\n",
    "print(\"Classes:\", class_names)\n",
    "\n",
    "# Parameters\n",
    "img_size = (128, 128)  # resize all images to same size\n",
    "\n",
    "X = []\n",
    "y = []\n",
    "\n",
    "# Loading images\n",
    "for label, class_name in enumerate(class_names):\n",
    "    class_path = os.path.join(data_dir, class_name)\n",
    "    for file in os.listdir(class_path):\n",
    "        if file.endswith(\".png\"):\n",
    "            img_path = os.path.join(class_path, file)\n",
    "            img = Image.open(img_path).convert(\"RGB\")  # ensure 3 channels\n",
    "            img = img.resize(img_size)  # resize\n",
    "            X.append(np.array(img))\n",
    "            y.append(label)\n",
    "\n",
    "# Convert to numpy arrays\n",
    "X = np.array(X)\n",
    "y = np.array(y)\n"
   ]
  },
  {
   "cell_type": "markdown",
   "id": "d7220076",
   "metadata": {},
   "source": [
    "### Checking its SHAPE:"
   ]
  },
  {
   "cell_type": "code",
   "execution_count": 9,
   "id": "b4d53a04",
   "metadata": {},
   "outputs": [
    {
     "name": "stdout",
     "output_type": "stream",
     "text": [
      "All images shape: (5558, 128, 128, 3)\n",
      "All labels shape: (5558,)\n"
     ]
    }
   ],
   "source": [
    "print(\"All images shape:\", X.shape)\n",
    "print(\"All labels shape:\", y.shape)"
   ]
  },
  {
   "cell_type": "markdown",
   "id": "f5c6f8ad",
   "metadata": {},
   "source": [
    "### Train, Test Dataset"
   ]
  },
  {
   "cell_type": "code",
   "execution_count": null,
   "id": "1a980f35",
   "metadata": {},
   "outputs": [
    {
     "name": "stdout",
     "output_type": "stream",
     "text": [
      "Train shape: (4446, 128, 128, 3) (4446,)\n",
      "Test shape: (1112, 128, 128, 3) (1112,)\n"
     ]
    }
   ],
   "source": [
    "# Split into TRAIN and TEST sets\n",
    "X_train, X_test, y_train, y_test = train_test_split( X, y,\n",
    "                                                    test_size=0.2,\n",
    "                                                    stratify=y,\n",
    "                                                    random_state=42 )\n",
    "\n",
    "print(\"Train shape:\", X_train.shape, y_train.shape)\n",
    "print(\"Test shape:\", X_test.shape, y_test.shape)"
   ]
  },
  {
   "cell_type": "markdown",
   "id": "862cf329",
   "metadata": {},
   "source": [
    "To save it to GitHub:\n",
    "\n",
    "- git status\n",
    "- git add (file name)\n",
    "- git commit -m 'message'\n",
    "- git push -u origin (branch name)"
   ]
  },
  {
   "cell_type": "markdown",
   "id": "43887bb0",
   "metadata": {},
   "source": []
  }
 ],
 "metadata": {
  "kernelspec": {
   "display_name": "face_it",
   "language": "python",
   "name": "python3"
  },
  "language_info": {
   "codemirror_mode": {
    "name": "ipython",
    "version": 3
   },
   "file_extension": ".py",
   "mimetype": "text/x-python",
   "name": "python",
   "nbconvert_exporter": "python",
   "pygments_lexer": "ipython3",
   "version": "3.10.6"
  }
 },
 "nbformat": 4,
 "nbformat_minor": 5
}
